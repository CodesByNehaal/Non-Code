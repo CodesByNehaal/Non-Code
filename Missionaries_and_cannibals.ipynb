{
  "nbformat": 4,
  "nbformat_minor": 0,
  "metadata": {
    "colab": {
      "provenance": [],
      "authorship_tag": "ABX9TyOYQNJStCqPI5xB4jv5hP9J",
      "include_colab_link": true
    },
    "kernelspec": {
      "name": "python3",
      "display_name": "Python 3"
    },
    "language_info": {
      "name": "python"
    }
  },
  "cells": [
    {
      "cell_type": "markdown",
      "metadata": {
        "id": "view-in-github",
        "colab_type": "text"
      },
      "source": [
        "<a href=\"https://colab.research.google.com/github/CodesByNehaal/Non-Code/blob/main/Missionaries_and_cannibals.ipynb\" target=\"_parent\"><img src=\"https://colab.research.google.com/assets/colab-badge.svg\" alt=\"Open In Colab\"/></a>"
      ]
    },
    {
      "cell_type": "code",
      "source": [
        "def get_boat_at_left_new_states(game_state):                                    #generating further steps to be taken.\n",
        "    new_states = []                                                             #A new list to generate all the future states. \n",
        "    for missionary in range(game_state[0] + 1):                                 #traversing in loop for m+1 times and c+1 times\n",
        "        for cannibal in range(game_state[1] + 1):                                \n",
        "            if missionary + cannibal < 1 or missionary + cannibal > 2:          #at max, only two or min. 1 can travel on a boat. rest all cases to be eliminated.\n",
        "                continue\n",
        "            new_state = (game_state[0] - missionary, game_state[1] - cannibal,'right')       #If we have 1 or 2 people on the boat, we will consider them. \n",
        "            if 0 < new_state[0] < new_state[1]:                                 #if Cannibals outnumber Missionaries on the left side, we skip.\n",
        "                print(\"Future State: \" + str(new_state) + \": Missionaries Killed\")\n",
        "                continue\n",
        "            if 0 < 3 - new_state[0] < 3 - new_state[1]:                         #if Cannibals outnumber Missionaries on the right side, we skip. \n",
        "                print(\"Future State: \" + str(new_state) + \": Missionaries Killed\")\n",
        "                continue\n",
        "            new_states.append(new_state)                                        #else, we can consider them a valid case and append it the list of future states. \n",
        "    return new_states"
      ],
      "metadata": {
        "id": "34bdEFMjTkSb"
      },
      "execution_count": null,
      "outputs": []
    },
    {
      "cell_type": "code",
      "source": [
        "def get_boat_at_right_new_states(game_state):                                   #generating further steps to be taken.\n",
        "    new_states = []\n",
        "    for missionary in range(3 - game_state[0] + 1):\n",
        "        for cannibal in range(3 - game_state[1] + 1):\n",
        "            if missionary + cannibal < 1 or missionary + cannibal > 2:\n",
        "                continue\n",
        "            new_state = (game_state[0] + missionary, game_state[1] + cannibal,'left')\n",
        "            if 0 < new_state[0] < new_state[1]:\n",
        "                print(\"Future State: \" + str(new_state) + \": Missionaries Killed\")\n",
        "                continue\n",
        "            if 0 < 3 - new_state[0] < 3 - new_state[1]:\n",
        "                print(\"Future State: \" + str(new_state) + \": Missionaries Killed\")                \n",
        "                continue\n",
        "            new_states.append(new_state)\n",
        "    return new_states"
      ],
      "metadata": {
        "id": "92pJa37mZOSl"
      },
      "execution_count": null,
      "outputs": []
    },
    {
      "cell_type": "code",
      "source": [
        "def get_future_states(game_state):                                              #a function to generate future states. \n",
        "    if game_state[2] == 'left':                                                 \n",
        "        return get_boat_at_left_new_states(game_state)\n",
        "    else:\n",
        "        return get_boat_at_right_new_states(game_state)"
      ],
      "metadata": {
        "id": "db1QsUkJfUgx"
      },
      "execution_count": null,
      "outputs": []
    },
    {
      "cell_type": "code",
      "source": [
        "def bfs():\n",
        "    state_stack = list()                                                        #maintaining a stack for the states.\n",
        "    visited_states = set()                                                      #maintaining a set for visited states. (allowing only unique states to consider)\n",
        "    initial_state = (3, 3, 'left')                                              #initialising our initial state. \n",
        "    visited_states.add(initial_state)                                           #visiting the initial state. \n",
        "    states = [initial_state]                                                    #maintaining a list of states in consideration at a time.\n",
        "    all_states = [states]                                                       #maintaining a list of all the states taken in consideration throughout the game. \n",
        "    print(\"Initial state: \" + str(initial_state))                               #initialising our initial state. \n",
        "\n",
        "    win = False                                                 \n",
        "    while not win:                                                              #looping over until we win\n",
        "        print(\"States: \" + str(states))                                         #printing the current states in consideration.\n",
        "        new_states = []\n",
        "        for game_state in states:                                               #for every state in the states taken in consideration, checking for goal test condition\n",
        "            print(\"Current State: \" + str(game_state))\n",
        "            state_stack.append(game_state)                                         \n",
        "            if game_state[0] == game_state[1] == 0:   \n",
        "                print(\"Win! Last state: \" + str(game_state))\n",
        "                win = True\n",
        "                break\n",
        "            future_states = get_future_states(game_state)                       #if goal not achieved, moving ahead and generating its future states.(children)\n",
        "            for future_state in future_states:                                  #for every future state generated,\n",
        "                if future_state not in visited_states:                          #ensuring, we have not visited it before\n",
        "                    new_states.append(future_state)                             #only then we will consider it as our next state. \n",
        "                    visited_states.add(future_state)                            #visiting the state. \n",
        "                    print(\"Future State: \" + str(future_state))       \n",
        "                else:\n", 
        "                    print(\"Future State: \" + str(future_state))       \n",
        "                    print(\"We have visited \" + str(future_state) +  \" state before. let's move back\")            \n",
        "            print()\n",
        "        if not win:                                                             \n",
        "            states = new_states\n",
        "            all_states.append(states)\n",
        "    "
      ],
      "metadata": {
        "id": "4vBC4_oXS9ih"
      },
      "execution_count": null,
      "outputs": []
    },
    {
      "cell_type": "code",
      "source": [
        "bfs()"
      ],
      "metadata": {
        "colab": {
          "base_uri": "https://localhost:8080/"
        },
        "id": "O7KDIAPATOSr",
        "outputId": "71206481-af15-4132-b0bd-4b5a33a54e60"
      },
      "execution_count": null,
      "outputs": [
        {
          "output_type": "stream",
          "name": "stdout",
          "text": [
            "Initial state: (3, 3, 'left')\n",
            "States: [(3, 3, 'left')]\n",
            "Current State: (3, 3, 'left')\n",
            "Future State: (2, 3, 'right'): Missionaries Killed\n",
            "Future State: (1, 3, 'right'): Missionaries Killed\n",
            "Future State: (3, 2, 'right')\n",
            "Future State: (3, 1, 'right')\n",
            "Future State: (2, 2, 'right')\n",
            "\n",
            "States: [(3, 2, 'right'), (3, 1, 'right'), (2, 2, 'right')]\n",
            "Current State: (3, 2, 'right')\n",
            "Future State: (3, 3, 'left')\n",
            "We have visited (3, 3, 'left') state before. let's move back\n",
            "\n",
            "Current State: (3, 1, 'right')\n",
            "Future State: (3, 2, 'left')\n",
            "Future State: (3, 3, 'left')\n",
            "We have visited (3, 3, 'left') state before. let's move back\n",
            "\n",
            "Current State: (2, 2, 'right')\n",
            "Future State: (2, 3, 'left'): Missionaries Killed\n",
            "Future State: (3, 2, 'left')\n",
            "We have visited (3, 2, 'left') state before. let's move back\n",
            "Future State: (3, 3, 'left')\n",
            "We have visited (3, 3, 'left') state before. let's move back\n",
            "\n",
            "States: [(3, 2, 'left')]\n",
            "Current State: (3, 2, 'left')\n",
            "Future State: (2, 1, 'right'): Missionaries Killed\n",
            "Future State: (1, 2, 'right'): Missionaries Killed\n",
            "Future State: (3, 1, 'right')\n",
            "We have visited (3, 1, 'right') state before. let's move back\n",
            "Future State: (3, 0, 'right')\n",
            "Future State: (2, 2, 'right')\n",
            "We have visited (2, 2, 'right') state before. let's move back\n",
            "\n",
            "States: [(3, 0, 'right')]\n",
            "Current State: (3, 0, 'right')\n",
            "Future State: (3, 1, 'left')\n",
            "Future State: (3, 2, 'left')\n",
            "We have visited (3, 2, 'left') state before. let's move back\n",
            "\n",
            "States: [(3, 1, 'left')]\n",
            "Current State: (3, 1, 'left')\n",
            "Future State: (2, 1, 'right'): Missionaries Killed\n",
            "Future State: (2, 0, 'right'): Missionaries Killed\n",
            "Future State: (3, 0, 'right')\n",
            "We have visited (3, 0, 'right') state before. let's move back\n",
            "Future State: (1, 1, 'right')\n",
            "\n",
            "States: [(1, 1, 'right')]\n",
            "Current State: (1, 1, 'right')\n",
            "Future State: (1, 2, 'left'): Missionaries Killed\n",
            "Future State: (1, 3, 'left'): Missionaries Killed\n",
            "Future State: (2, 1, 'left'): Missionaries Killed\n",
            "Future State: (2, 2, 'left')\n",
            "Future State: (3, 1, 'left')\n",
            "We have visited (3, 1, 'left') state before. let's move back\n",
            "\n",
            "States: [(2, 2, 'left')]\n",
            "Current State: (2, 2, 'left')\n",
            "Future State: (2, 1, 'right'): Missionaries Killed\n",
            "Future State: (2, 0, 'right'): Missionaries Killed\n",
            "Future State: (1, 2, 'right'): Missionaries Killed\n",
            "Future State: (1, 1, 'right')\n",
            "We have visited (1, 1, 'right') state before. let's move back\n",
            "Future State: (0, 2, 'right')\n",
            "\n",
            "States: [(0, 2, 'right')]\n",
            "Current State: (0, 2, 'right')\n",
            "Future State: (1, 2, 'left'): Missionaries Killed\n",
            "Future State: (1, 3, 'left'): Missionaries Killed\n",
            "Future State: (0, 3, 'left')\n",
            "Future State: (2, 2, 'left')\n",
            "We have visited (2, 2, 'left') state before. let's move back\n",
            "\n",
            "States: [(0, 3, 'left')]\n",
            "Current State: (0, 3, 'left')\n",
            "Future State: (0, 2, 'right')\n",
            "We have visited (0, 2, 'right') state before. let's move back\n",
            "Future State: (0, 1, 'right')\n",
            "\n",
            "States: [(0, 1, 'right')]\n",
            "Current State: (0, 1, 'right')\n",
            "Future State: (1, 2, 'left'): Missionaries Killed\n",
            "Future State: (2, 1, 'left'): Missionaries Killed\n",
            "Future State: (0, 2, 'left')\n",
            "Future State: (0, 3, 'left')\n",
            "We have visited (0, 3, 'left') state before. let's move back\n",
            "Future State: (1, 1, 'left')\n",
            "\n",
            "States: [(0, 2, 'left'), (1, 1, 'left')]\n",
            "Current State: (0, 2, 'left')\n",
            "Future State: (0, 1, 'right')\n",
            "We have visited (0, 1, 'right') state before. let's move back\n",
            "Future State: (0, 0, 'right')\n",
            "\n",
            "Current State: (1, 1, 'left')\n",
            "Future State: (1, 0, 'right'): Missionaries Killed\n",
            "Future State: (0, 1, 'right')\n",
            "We have visited (0, 1, 'right') state before. let's move back\n",
            "Future State: (0, 0, 'right')\n",
            "We have visited (0, 0, 'right') state before. let's move back\n",
            "\n",
            "States: [(0, 0, 'right')]\n",
            "Current State: (0, 0, 'right')\n",
            "Win! Last state: (0, 0, 'right')\n"
          ]
        }
      ]
    }
  ]
}
